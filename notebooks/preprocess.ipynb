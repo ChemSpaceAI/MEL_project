{
 "cells": [
  {
   "cell_type": "code",
   "execution_count": null,
   "id": "0a794d81",
   "metadata": {},
   "outputs": [],
   "source": [
    "import pandas as pd\n",
    "import re\n",
    "\n",
    "def select_and_save_columns(input_path, output_path, columns=[\"mel_type\", \"CSM_id\", \"mel_synthon_id\"]):\n",
    "    \"\"\"\n",
    "    Reads a CSV, selects specific columns, and saves to a new CSV without index.\n",
    "\n",
    "    Args:\n",
    "        input_path (str): Path to the input CSV file.\n",
    "        output_path (str): Path to save the new CSV file.\n",
    "        columns (list[str]): List of column names to select.\n",
    "    \"\"\"\n",
    "    df = pd.read_csv(input_path)[columns]\n",
    "    df.to_csv(output_path, index=False)\n",
    "    print(f\"Saved {len(df)} rows with columns {columns} to {output_path}\")"
   ]
  },
  {
   "cell_type": "code",
   "execution_count": 5,
   "id": "af8941e5",
   "metadata": {},
   "outputs": [
    {
     "name": "stdout",
     "output_type": "stream",
     "text": [
      "Saved 9333 rows with columns ['CSM_id', 'mel_synthon_id'] to /chemai_narnia/MEL_project/test_3/test_3_comp.csv\n"
     ]
    }
   ],
   "source": [
    "select_and_save_columns(\n",
    "    \"/chemai_narnia/MEL_project/test_3/selected_3c0mp_forTest.csv\", \n",
    "    \"/chemai_narnia/MEL_project/test_3/test_3_comp.csv\",\n",
    "    columns=[\"CSM_id\", \"mel_synthon_id\"]\n",
    ")"
   ]
  }
 ],
 "metadata": {
  "kernelspec": {
   "display_name": "main_env",
   "language": "python",
   "name": "python3"
  },
  "language_info": {
   "codemirror_mode": {
    "name": "ipython",
    "version": 3
   },
   "file_extension": ".py",
   "mimetype": "text/x-python",
   "name": "python",
   "nbconvert_exporter": "python",
   "pygments_lexer": "ipython3",
   "version": "3.12.7"
  }
 },
 "nbformat": 4,
 "nbformat_minor": 5
}
